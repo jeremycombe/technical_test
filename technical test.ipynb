{
 "cells": [
  {
   "cell_type": "markdown",
   "metadata": {},
   "source": [
    "# Prise en main des données"
   ]
  },
  {
   "cell_type": "code",
   "execution_count": 1,
   "metadata": {
    "collapsed": true
   },
   "outputs": [],
   "source": [
    "import pandas as pd\n",
    "import numpy as np\n",
    "import datetime\n",
    "import warnings\n",
    "import math\n",
    "warnings.filterwarnings(\"ignore\")\n",
    "import matplotlib.pyplot as plt"
   ]
  },
  {
   "cell_type": "markdown",
   "metadata": {},
   "source": [
    "les dataframes sont chargées, concaténées et la variable 'Unnamed: 0' est retirée"
   ]
  },
  {
   "cell_type": "code",
   "execution_count": 4,
   "metadata": {},
   "outputs": [],
   "source": [
    "df1 = pd.read_csv('datasets/df1.csv')\n",
    "df2 = pd.read_csv('datasets/df2.csv')\n",
    "df3 = pd.read_csv('datasets/df3.csv')\n",
    "df4 = pd.read_csv('datasets/df4.csv')\n",
    "df5 = pd.read_csv('datasets/df5.csv')\n",
    "df6 = pd.read_csv('datasets/df6.csv')\n",
    "\n",
    "data_frames = [df1, df2, df3, df4, df5, df6]\n",
    "\n",
    "merged_df = pd.concat(data_frames)\n",
    "merged_df.drop(['Unnamed: 0'], axis = 1, inplace = True)"
   ]
  },
  {
   "cell_type": "code",
   "execution_count": 5,
   "metadata": {},
   "outputs": [
    {
     "data": {
      "text/html": [
       "<div>\n",
       "<style>\n",
       "    .dataframe thead tr:only-child th {\n",
       "        text-align: right;\n",
       "    }\n",
       "\n",
       "    .dataframe thead th {\n",
       "        text-align: left;\n",
       "    }\n",
       "\n",
       "    .dataframe tbody tr th {\n",
       "        vertical-align: top;\n",
       "    }\n",
       "</style>\n",
       "<table border=\"1\" class=\"dataframe\">\n",
       "  <thead>\n",
       "    <tr style=\"text-align: right;\">\n",
       "      <th></th>\n",
       "      <th>id</th>\n",
       "      <th>lat</th>\n",
       "      <th>long</th>\n",
       "      <th>ts</th>\n",
       "    </tr>\n",
       "  </thead>\n",
       "  <tbody>\n",
       "    <tr>\n",
       "      <th>0</th>\n",
       "      <td>66</td>\n",
       "      <td>48.846460</td>\n",
       "      <td>2.306055</td>\n",
       "      <td>1556661600</td>\n",
       "    </tr>\n",
       "    <tr>\n",
       "      <th>1</th>\n",
       "      <td>66</td>\n",
       "      <td>48.846442</td>\n",
       "      <td>2.306054</td>\n",
       "      <td>1556661640</td>\n",
       "    </tr>\n",
       "    <tr>\n",
       "      <th>2</th>\n",
       "      <td>66</td>\n",
       "      <td>48.846465</td>\n",
       "      <td>2.306093</td>\n",
       "      <td>1556661690</td>\n",
       "    </tr>\n",
       "    <tr>\n",
       "      <th>3</th>\n",
       "      <td>66</td>\n",
       "      <td>48.846485</td>\n",
       "      <td>2.306105</td>\n",
       "      <td>1556661740</td>\n",
       "    </tr>\n",
       "    <tr>\n",
       "      <th>4</th>\n",
       "      <td>66</td>\n",
       "      <td>48.846450</td>\n",
       "      <td>2.306070</td>\n",
       "      <td>1556661880</td>\n",
       "    </tr>\n",
       "  </tbody>\n",
       "</table>\n",
       "</div>"
      ],
      "text/plain": [
       "   id        lat      long          ts\n",
       "0  66  48.846460  2.306055  1556661600\n",
       "1  66  48.846442  2.306054  1556661640\n",
       "2  66  48.846465  2.306093  1556661690\n",
       "3  66  48.846485  2.306105  1556661740\n",
       "4  66  48.846450  2.306070  1556661880"
      ]
     },
     "execution_count": 5,
     "metadata": {},
     "output_type": "execute_result"
    }
   ],
   "source": [
    "merged_df.head()"
   ]
  },
  {
   "cell_type": "code",
   "execution_count": 6,
   "metadata": {},
   "outputs": [
    {
     "name": "stdout",
     "output_type": "stream",
     "text": [
      "nombre de lignes: 1175842\n"
     ]
    }
   ],
   "source": [
    "print('nombre de lignes:', merged_df.shape[0])"
   ]
  },
  {
   "cell_type": "markdown",
   "metadata": {},
   "source": [
    "Pour avoir une vue plus simple sur les timestamps, nous ajoutons une colonne représentant le datetime sous forme YYYY-MM-DD HH:MM:SS"
   ]
  },
  {
   "cell_type": "code",
   "execution_count": 7,
   "metadata": {
    "collapsed": true
   },
   "outputs": [],
   "source": [
    "merged_df['timestamp'] = (pd.to_datetime(merged_df['ts'], unit='s'))    \n"
   ]
  },
  {
   "cell_type": "code",
   "execution_count": 9,
   "metadata": {},
   "outputs": [
    {
     "data": {
      "text/html": [
       "<div>\n",
       "<style>\n",
       "    .dataframe thead tr:only-child th {\n",
       "        text-align: right;\n",
       "    }\n",
       "\n",
       "    .dataframe thead th {\n",
       "        text-align: left;\n",
       "    }\n",
       "\n",
       "    .dataframe tbody tr th {\n",
       "        vertical-align: top;\n",
       "    }\n",
       "</style>\n",
       "<table border=\"1\" class=\"dataframe\">\n",
       "  <thead>\n",
       "    <tr style=\"text-align: right;\">\n",
       "      <th></th>\n",
       "      <th>id</th>\n",
       "      <th>lat</th>\n",
       "      <th>long</th>\n",
       "      <th>ts</th>\n",
       "      <th>timestamp</th>\n",
       "    </tr>\n",
       "  </thead>\n",
       "  <tbody>\n",
       "    <tr>\n",
       "      <th>0</th>\n",
       "      <td>66</td>\n",
       "      <td>48.846460</td>\n",
       "      <td>2.306055</td>\n",
       "      <td>1556661600</td>\n",
       "      <td>2019-04-30 22:00:00</td>\n",
       "    </tr>\n",
       "    <tr>\n",
       "      <th>1</th>\n",
       "      <td>66</td>\n",
       "      <td>48.846442</td>\n",
       "      <td>2.306054</td>\n",
       "      <td>1556661640</td>\n",
       "      <td>2019-04-30 22:00:40</td>\n",
       "    </tr>\n",
       "    <tr>\n",
       "      <th>2</th>\n",
       "      <td>66</td>\n",
       "      <td>48.846465</td>\n",
       "      <td>2.306093</td>\n",
       "      <td>1556661690</td>\n",
       "      <td>2019-04-30 22:01:30</td>\n",
       "    </tr>\n",
       "    <tr>\n",
       "      <th>3</th>\n",
       "      <td>66</td>\n",
       "      <td>48.846485</td>\n",
       "      <td>2.306105</td>\n",
       "      <td>1556661740</td>\n",
       "      <td>2019-04-30 22:02:20</td>\n",
       "    </tr>\n",
       "    <tr>\n",
       "      <th>4</th>\n",
       "      <td>66</td>\n",
       "      <td>48.846450</td>\n",
       "      <td>2.306070</td>\n",
       "      <td>1556661880</td>\n",
       "      <td>2019-04-30 22:04:40</td>\n",
       "    </tr>\n",
       "  </tbody>\n",
       "</table>\n",
       "</div>"
      ],
      "text/plain": [
       "   id        lat      long          ts           timestamp\n",
       "0  66  48.846460  2.306055  1556661600 2019-04-30 22:00:00\n",
       "1  66  48.846442  2.306054  1556661640 2019-04-30 22:00:40\n",
       "2  66  48.846465  2.306093  1556661690 2019-04-30 22:01:30\n",
       "3  66  48.846485  2.306105  1556661740 2019-04-30 22:02:20\n",
       "4  66  48.846450  2.306070  1556661880 2019-04-30 22:04:40"
      ]
     },
     "execution_count": 9,
     "metadata": {},
     "output_type": "execute_result"
    }
   ],
   "source": [
    "merged_df.head()"
   ]
  },
  {
   "cell_type": "markdown",
   "metadata": {},
   "source": [
    "Il n'est pas précisé si l'enregistrement GPS est continue même si le moteur est à l'arret ou non, nous allons donc le déterminer si après en calculant la différence maximale entre 2 timestamps et pour chaque vehicule."
   ]
  },
  {
   "cell_type": "code",
   "execution_count": 10,
   "metadata": {
    "collapsed": true
   },
   "outputs": [],
   "source": [
    "def max_diff_ts():\n",
    "    \n",
    "    max_diff_ts = {}\n",
    "\n",
    "    for vehicule in merged_df['id'].unique():\n",
    "\n",
    "        diff_ts = []\n",
    "\n",
    "        df_vehicule_targeted = merged_df[merged_df['id'] == vehicule]\n",
    "        df_vehicule_targeted.sort_values(by = 'ts', inplace = True)\n",
    "        df_vehicule_targeted.reset_index(inplace = True)\n",
    "\n",
    "        for row in range(df_vehicule_targeted.shape[0]):\n",
    "\n",
    "            try:\n",
    "\n",
    "                diff = (df_vehicule_targeted['ts'][row+1] - df_vehicule_targeted['ts'][row]) / 60\n",
    "\n",
    "                diff_ts.append(diff)\n",
    "\n",
    "            except: continue\n",
    "\n",
    "        max_diff_ts['{}'.format(vehicule)] = max(diff_ts)\n",
    "\n",
    "    return max_diff_ts\n",
    "    \n",
    "    "
   ]
  },
  {
   "cell_type": "code",
   "execution_count": 12,
   "metadata": {},
   "outputs": [
    {
     "name": "stdout",
     "output_type": "stream",
     "text": [
      "Temps maximum de la perte de signal GPS: 11.33 min\n"
     ]
    }
   ],
   "source": [
    "max_value = max_diff_ts()\n",
    "\n",
    "print('Temps maximum de la perte de signal GPS: {0:.2f} min'.format(max(max_value.values())))"
   ]
  },
  {
   "cell_type": "markdown",
   "metadata": {},
   "source": [
    "Au maximum, un vehicule n'a émis aucun signal GPS pendant seulement 11 minutes, nous pouvons considérer que le tracking est donc fait en continue même si le moteur est éteint.\n",
    "\n",
    "Remarque: Cette perte de signal GPS pourrait être dû au passage du véhicule dans un tunnel par exemple"
   ]
  },
  {
   "cell_type": "code",
   "execution_count": null,
   "metadata": {
    "collapsed": true
   },
   "outputs": [],
   "source": []
  },
  {
   "cell_type": "markdown",
   "metadata": {},
   "source": [
    "### 1.       Quelles sont les étapes du trajet du véhicule n°78 lors de la journée du 2 mai?\n",
    "\n",
    "Nous définissons un nouveau dataframe propre au vehicule 78 sur la journée du 2 mai ordonnée dans l'ordre chronologique.\n",
    "\n",
    "En unix epoch, le 2 mai à minuit correspond à 1556755200\n",
    "et le 3 mai à minuit correspond à 1556841600\n",
    "\n",
    "Nous définissons le concept de \"étape du trajet\" comme un arrêt prolongé ou un mouvement prolongé de l'ordre de quelques minutes."
   ]
  },
  {
   "cell_type": "code",
   "execution_count": 14,
   "metadata": {
    "collapsed": true
   },
   "outputs": [],
   "source": [
    "df_78_2_mai = merged_df[(merged_df['id'] == 78) \n",
    "                        & (merged_df['ts'] >= 1556755200)\n",
    "                        & (merged_df['ts'] < 1556841600)]\n",
    "\n",
    "df_78_2_mai.sort_values(by = 'ts', inplace = True)\n",
    "df_78_2_mai.reset_index(inplace = True, drop = True)\n"
   ]
  },
  {
   "cell_type": "markdown",
   "metadata": {},
   "source": [
    "Nous définissons ensuite une fonction qui donne la distance séparant deux plots GPS"
   ]
  },
  {
   "cell_type": "code",
   "execution_count": 15,
   "metadata": {
    "collapsed": true
   },
   "outputs": [],
   "source": [
    "def distance(origin, destination):\n",
    "    lat1, lon1 = origin[0], origin[1]\n",
    "    lat2, lon2 = destination[0], destination[1]\n",
    "    radius = 6371000 # metres\n",
    "\n",
    "    dlat = math.radians(lat2-lat1)\n",
    "    dlon = math.radians(lon2-lon1)\n",
    "    a = math.sin(dlat/2) * math.sin(dlat/2) + math.cos(math.radians(lat1)) \\\n",
    "        * math.cos(math.radians(lat2)) * math.sin(dlon/2) * math.sin(dlon/2)\n",
    "    c = 2 * math.atan2(math.sqrt(a), math.sqrt(1-a))\n",
    "    d = radius * c\n",
    "\n",
    "    return d\n",
    "\n"
   ]
  },
  {
   "cell_type": "code",
   "execution_count": null,
   "metadata": {
    "collapsed": true
   },
   "outputs": [],
   "source": []
  }
 ],
 "metadata": {
  "kernelspec": {
   "display_name": "Python 3",
   "language": "python",
   "name": "python3"
  },
  "language_info": {
   "codemirror_mode": {
    "name": "ipython",
    "version": 3
   },
   "file_extension": ".py",
   "mimetype": "text/x-python",
   "name": "python",
   "nbconvert_exporter": "python",
   "pygments_lexer": "ipython3",
   "version": "3.6.1"
  }
 },
 "nbformat": 4,
 "nbformat_minor": 2
}
